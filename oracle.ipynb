{
 "cells": [
  {
   "cell_type": "code",
   "execution_count": null,
   "metadata": {},
   "outputs": [],
   "source": [
    "import pandas as pd\n",
    "import numpy as np\n",
    "from sklearn.preprocessing import StandardScaler, OneHotEncoder\n",
    "from sklearn.impute import KNNImputer, SimpleImputer\n",
    "from sklearn.feature_selection import SelectKBest, mutual_info_classif\n",
    "from sklearn.model_selection import train_test_split\n",
    "from sklearn.ensemble import IsolationForest\n",
    "import matplotlib.pyplot as plt\n",
    "import seaborn as sns"
   ]
  },
  {
   "cell_type": "code",
   "execution_count": 3,
   "metadata": {},
   "outputs": [
    {
     "name": "stdout",
     "output_type": "stream",
     "text": [
      "RedFighter, BlueFighter, RedOdds, BlueOdds, RedExpectedValue, BlueExpectedValue, Date, Location, Country, Winner, TitleBout, WeightClass, Gender, NumberOfRounds, BlueCurrentLoseStreak, BlueCurrentWinStreak, BlueDraws, BlueAvgSigStrLanded, BlueAvgSigStrPct, BlueAvgSubAtt, BlueAvgTDLanded, BlueAvgTDPct, BlueLongestWinStreak, BlueLosses, BlueTotalRoundsFought, BlueTotalTitleBouts, BlueWinsByDecisionMajority, BlueWinsByDecisionSplit, BlueWinsByDecisionUnanimous, BlueWinsByKO, BlueWinsBySubmission, BlueWinsByTKODoctorStoppage, BlueWins, BlueStance, BlueHeightCms, BlueReachCms, BlueWeightLbs, RedCurrentLoseStreak, RedCurrentWinStreak, RedDraws, RedAvgSigStrLanded, RedAvgSigStrPct, RedAvgSubAtt, RedAvgTDLanded, RedAvgTDPct, RedLongestWinStreak, RedLosses, RedTotalRoundsFought, RedTotalTitleBouts, RedWinsByDecisionMajority, RedWinsByDecisionSplit, RedWinsByDecisionUnanimous, RedWinsByKO, RedWinsBySubmission, RedWinsByTKODoctorStoppage, RedWins, RedStance, RedHeightCms, RedReachCms, RedWeightLbs, RedAge, BlueAge, LoseStreakDif, WinStreakDif, LongestWinStreakDif, WinDif, LossDif, TotalRoundDif, TotalTitleBoutDif, KODif, SubDif, HeightDif, ReachDif, AgeDif, SigStrDif, AvgSubAttDif, AvgTDDif, EmptyArena, BMatchWCRank, RMatchWCRank, RWFlyweightRank, RWFeatherweightRank, RWStrawweightRank, RWBantamweightRank, RHeavyweightRank, RLightHeavyweightRank, RMiddleweightRank, RWelterweightRank, RLightweightRank, RFeatherweightRank, RBantamweightRank, RFlyweightRank, RPFPRank, BWFlyweightRank, BWFeatherweightRank, BWStrawweightRank, BWBantamweightRank, BHeavyweightRank, BLightHeavyweightRank, BMiddleweightRank, BWelterweightRank, BLightweightRank, BFeatherweightRank, BBantamweightRank, BFlyweightRank, BPFPRank, BetterRank, Finish, FinishDetails, FinishRound, FinishRoundTime, TotalFightTimeSecs, RedDecOdds, BlueDecOdds, RSubOdds, BSubOdds, RKOOdds, BKOOdds\n"
     ]
    }
   ],
   "source": [
    "df = pd.read_csv('ufc_fights.csv')\n",
    "# print(df.columns)\n",
    "print(', '.join(df.columns))\n",
    "# print(df.head())\n",
    "# print(df.info())\n",
    "# print(df.describe())"
   ]
  },
  {
   "cell_type": "code",
   "execution_count": null,
   "metadata": {},
   "outputs": [],
   "source": [
    "#analyze and handle missing data\n",
    "\n",
    "def missing_value_analysis(df):\n",
    "    missing_values = df.isnull().sum()\n",
    "    missing_values_percentage = (missing_values / len(df)) * 100\n",
    "    missing_values_table = pd.concat([missing_values, missing_values_percentage], axis=1)\n",
    "    missing_values_table = missing_values_table.rename(columns={0: 'Missing Values', 1: 'Percentage'})\n",
    "\n",
    "    return missing_values_table[missing_values_table['Missing Values'] > 0].sort_values(by='Percentage', ascending=False)\n",
    "\n",
    "\n",
    "missing_data = missing_value_analysis(df)\n",
    "print(missing_data)"
   ]
  }
 ],
 "metadata": {
  "kernelspec": {
   "display_name": "venv",
   "language": "python",
   "name": "python3"
  },
  "language_info": {
   "codemirror_mode": {
    "name": "ipython",
    "version": 3
   },
   "file_extension": ".py",
   "mimetype": "text/x-python",
   "name": "python",
   "nbconvert_exporter": "python",
   "pygments_lexer": "ipython3",
   "version": "3.12.5"
  }
 },
 "nbformat": 4,
 "nbformat_minor": 2
}
